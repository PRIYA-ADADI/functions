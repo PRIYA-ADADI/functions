{
  "nbformat": 4,
  "nbformat_minor": 0,
  "metadata": {
    "colab": {
      "provenance": []
    },
    "kernelspec": {
      "name": "python3",
      "display_name": "Python 3"
    },
    "language_info": {
      "name": "python"
    }
  },
  "cells": [
    {
      "cell_type": "markdown",
      "source": [
        "## 1. What is the difference between a function and a method in Python?\n",
        "   -  Here are the list of primary differences between a function and a method.\n",
        "1. **Independent vs. Belonging**: A function operates independently and can be executed on its own without any context. In contrast, a method is intrinsically tied to an object or class, relying on the context of that object to perform its tasks.\n",
        "2. **Calling**: You call a function by its name, like print(). But you call a method using an object, like my_list.append().\n",
        "3. **Access to Data**: A function can’t directly use or change an object’s data unless you give it the data. A method can directly work with the object's data because it knows the object.\n",
        "4. **Scope**: Functions are generally defined in a broader scope, making them versatile and reusable across different contexts and programs. Methods, on the other hand, are defined within the confines of a class, with their utility closely linked to the behavior and attributes of that class.\n",
        "\n",
        "\n",
        "\n",
        "## 2. Explain the concept of function arguments and parameters in Python.\n",
        "In Python, understanding function arguments and parameters is important for writing effective functions.\n",
        "\n",
        "- **Function Parameters**: Parameters are special variables that you define in the function's header when you create it. They serve as placeholders that will hold the values you want to use inside the function. For example, in the function definition def greet(name):, the word \"name\" is a parameter. When you call this function later, the parameter \"name\" will take on the value you provide.\n",
        "\n",
        "- **Function Arguments**: Arguments are the actual values that you supply to the function when you call it. They are what you pass into the function to be used during its execution. For example, when you call the function using `greet(\"Alice\")`, the string \"Alice\" is the argument you are sending to the function. This value will be assigned to the parameter \"name\" within the function, allowing it to use that value in its operations.\n",
        "\n",
        "To summarize, parameters are like empty containers defined in the function, waiting to be filled, while arguments are the specific items that fill those containers when the function is called. This distinction helps you understand how functions can operate on different pieces of data!\n",
        "\n",
        "\n",
        " ## 3. What are the different ways to define and call a function in Python?\n",
        "\n",
        "Here is an overview of the different ways to define and call functions in Python.\n",
        "\n",
        "1. **Basic Function Definition and Calling**\n",
        "In Python, functions are defined using the def keyword followed by the function name and parentheses containing any parameters. A function is called by its name followed by parentheses, passing any required arguments.\n",
        "\n",
        "2. **Function with Multiple Parameters**\n",
        "Functions can take multiple parameters, allowing users to submit several values when invoking the function. Each parameter provides a place for the argument during the function call.\n",
        "\n",
        "3. **Default Parameters**\n",
        "You can assign default values to parameters. This means that if no argument is provided for that parameter during the function call, the default value will be used instead.\n",
        "\n",
        "4. **Keyword Arguments**\n",
        "When calling a function, you can specify the parameters by name, allowing you to provide arguments in any order. This increases the readability of the function call and makes it clearer which value corresponds to which parameter.\n",
        "\n",
        "\n",
        "5. **Lambda Functions**\n",
        "Lambda functions are small, anonymous functions defined using the lambda keyword. They can take multiple arguments but are limited to a single expression. They are useful for scenarios where a full function definition is not necessary.\n",
        "\n",
        "6. **Nested Functions**\n",
        "Functions can be defined within other functions, which can help in encapsulating functionality that should only be accessible within the outer function. The inner function can use parameters and variables from the outer function.\n",
        "\n",
        "7. **Higher-Order Functions**\n",
        "Python allows functions to accept other functions as arguments or to return functions. This allows for functional programming techniques such as callbacks and decorators.\n",
        "\n",
        "8. **Methods in Classes**\n",
        "In object-oriented programming, functions defined within a class are referred to as methods. They take the instance of the class as an implicit first parameter (commonly named `self`) and facilitate object-specific behavior.\n",
        "\n",
        "\n",
        "##4. What is the purpose of the `return` statement in a Python function?\n",
        "\n",
        "\n",
        "The return statement in a Python function serves several important purposes:\n",
        "\n",
        "1. **Returning Values**\n",
        "The primary purpose of the return statement is to send a value back to the caller of the function. When a function is executed and reaches a return statement, it stops executing and returns the specified value to the part of the program that called the function. This allows the function to provide output based on its computations or operations.\n",
        "\n",
        "2. **Exiting the Function**\n",
        "The return statement also terminates the function's execution. When a return statement is encountered, the control flow exits the function, and any code following the return statement within that function will not be executed.\n",
        "\n",
        "3. **Returning Multiple Values**\n",
        "In Python, a function can return multiple values by separating them with commas in the return statement. These values are returned as a tuple, which can be unpacked when the function is called. This feature allows for more complex data handling in a concise manner.\n",
        "\n",
        "4. **Indicating No Return Value**\n",
        "If a function does not have a return statement or if it has an empty return, it will return None by default. This behavior is often used to signify that a function performs an action but does not need to return any useful result.\n",
        "\n",
        "\n",
        " ## 5. What are iterators in Python and how do they differ from iterables?\n",
        "\n",
        "**Iterable**:\n",
        "- An iterable is any Python object that can be looped over to access its elements one at a time.\n",
        "- Common examples of iterables include lists, strings, tuples, and dictionaries.\n",
        "- They allow you to iterate through their items using a loop or other constructs.\n",
        "- Essentially, if you can get a collection of items using a for loop, it's likely an iterable.\n",
        "\n",
        "**Iterator**:\n",
        "- An iterator is a specific type of object designed for iterating through an iterable.\n",
        "- It provides a way to access the elements of the iterable one at a time, keeping track of the current position in the iteration.\n",
        "- An iterator is created from an iterable and supports two main methods: one to return itself for further iterations and another to fetch the next element in the sequence.\n",
        "- After an iterator has traversed all its items, it signals that there are no more items left\n",
        "\n",
        "\n",
        "##6. Explain the concept of generators in Python and how they are defined.\n",
        "\n",
        "**Generators in Python**\n",
        "\n",
        "**Definition**: Generators are a type of iterable, like lists or tuples, but instead of storing all values in memory, they generate items on the fly. This means they are more memory-efficient, especially when dealing with large datasets.\n",
        "\n",
        "**How Generators Work**: Generators use the `yield` statement to produce a sequence of values. When a generator function is called, it doesn’t run the code but instead returns a generator object without executing any of the body code. Each time the generator's `__next__()` method is called (often implicitly via a loop), the function runs until it reaches a `yield` statement, which provides the next value and pauses the function’s state. When the function is called again, it resumes from where it left off.\n",
        "\n",
        "**Defining Generators**\n",
        "\n",
        "Generators can be defined in two primary ways:\n",
        "\n",
        "1. **Generator Functions**: These are defined using the def keyword, just like regular functions, but they contain one or more yield statements.\n",
        "   - **Example**: A simple generator function that yields the first three numbers might look like this:\n",
        "     - When called, it maintains its state and continues from where it left off.\n",
        "\n",
        "2. **Generator Expressions**: These are a compact way to create generators using a syntax similar to list comprehensions but with parentheses instead of square brackets.\n",
        "   - **Example**: (x * x for x in range(3)) creates a generator that will yield the squares of numbers from 0 to 2.\n",
        "\n",
        "**Benefits of Generators**\n",
        "- **Memory Efficient**: They use less memory compared to lists because they yield items one at a time and do not store all items in memory.\n",
        "- **Convenient**: They allow you to work with potentially infinite sequences, as they yield values on demand.\n",
        "\n",
        "\n",
        "## 7. What are the advantages of using generators over regular functions?\n",
        "\n",
        "Generators offer several advantages over regular functions, especially when it comes to managing memory and handling data streams. Here are key advantages:\n",
        "\n",
        "1. **Memory Efficiency**\n",
        "- **Lazy Evaluation**: Generators yield items one at a time and only as needed, rather than creating an entire list in memory. This is particularly beneficial when dealing with large datasets or infinite sequences, as it significantly reduces memory consumption.\n",
        "  \n",
        "2. **Improved Performance**\n",
        "- **Reduced Overhead**: By using generators, you can start processing data immediately as it is generated instead of waiting for the entire dataset to be available. This can lead to faster program execution since you don’t have to load all data at once.\n",
        "\n",
        "3. **Easy to Create Iterators**\n",
        "- **Simplified Code**: Generators provide a straightforward way to create iterators using `yield`. This eliminates the need to define a separate class with `__iter__()` and `__next__()` methods, making the code cleaner and easier to read.\n",
        "\n",
        "4. **Infinite Sequences**\n",
        "- **Handling Infinite Data Streams**: With generators, you can define functions that produce an infinite sequence of values (e.g., Fibonacci numbers). Regular functions would struggle with this concept since they must return a complete result.\n",
        "\n",
        "5. **State Preservation**\n",
        "- **Stateful Functions**: Generators automatically preserve their state between yields, allowing them to remember where they left off. In contrast, regular functions lose their state once they return, making it more complex to manage iterative processes.\n",
        "\n",
        "6. **Better Concurrency**\n",
        "- **Cooperative Multi-tasking**: Generators can be used in asynchronous programming models, offering a way to implement coroutines that can pause and resume execution without blocking other tasks. This can be beneficial in applications requiring concurrent execution.\n",
        "\n",
        "7. **Cleaner Syntax**\n",
        "- **Readable Code**: Generators make it easier to express complex iteration logic in a clean and concise manner without boilerplate code, enhancing maintainability.\n",
        "\n",
        "\n",
        "## 8. What is a lambda function in Python and when is it typically used?\n",
        "\n",
        "A **lambda function** in Python is a small anonymous function defined using the `lambda` keyword. Unlike regular functions defined with the `def` keyword, lambda functions do not have a name (though they can be assigned to a variable) and are typically used for short, throwaway functions that are not intended to be reused.\n",
        "\n",
        "**Syntax**:\n",
        "The syntax of a lambda function is as follows:\n",
        "```python\n",
        "lambda arguments: expression\n",
        "```\n",
        "- **arguments**: A comma-separated list of parameters.\n",
        "- **expression**: A single expression that is evaluated and returned.\n",
        "\n",
        "**Key Characteristics**\n",
        "1. **Anonymous**: Lambda functions are often unnamed.\n",
        "2. **Single Expression**: They can only contain a single expression and cannot include statements or multiple expressions. The result of the expression is returned implicitly.\n",
        "3. **Can Have Multiple Arguments**: Lambda functions can take any number of arguments but can only have one expression.\n",
        "\n",
        "**Typical Use Cases**\n",
        "Lambda functions are typically used in the following scenarios:\n",
        "\n",
        "1. **Short-lived Functions**: When you need a simple function for a short period, such as when passing functions as arguments to higher-order functions.\n",
        "\n",
        "2. **Functions like `map()`, `filter()`, and `reduce()`**: Lambda functions are frequently used with built-in functions such as `map()`, `filter()`, and `reduce()`. These functions require a function as an argument to apply over an iterable (like lists).\n",
        "\n",
        "   Example with `map()`:\n",
        "   ```python\n",
        "   numbers = [1, 2, 3, 4]\n",
        "   squared = list(map(lambda x: x ** 2, numbers))  # [1, 4, 9, 16]\n",
        "   ```\n",
        "\n",
        "3. **Sorting and Ordering**: When you need a custom sort order using functions like `sorted()`. For example, sorting a list of tuples based on the second element:\n",
        "   ```python\n",
        "   data = [(1, 'one'), (3, 'three'), (2, 'two')]\n",
        "   sorted_data = sorted(data, key=lambda x: x[1])  # [(1, 'one'), (3, 'three'), (2, 'two')]\n",
        "   ```\n",
        "\n",
        "4. **In GUI frameworks**: When creating small functions for callbacks or event handlers where you may not want to define a whole function.\n",
        "\n",
        "5. **Within Higher-Order Functions**: Situations where a function is passed as an argument to other functions.\n",
        "\n",
        "### Example\n",
        "Here’s a simple example of a lambda function:\n",
        "```python\n",
        "# Regular function\n",
        "def add(x, y):\n",
        "    return x + y\n",
        "\n",
        "# Lambda function\n",
        "add_lambda = lambda x, y: x + y\n",
        "\n",
        "# Usage\n",
        "result1 = add(2, 3)          # Outputs: 5\n",
        "result2 = add_lambda(2, 3)   # Outputs: 5\n",
        "```\n",
        "\n",
        "##9. Explain the purpose and usage of the `map()` function in Python.\n",
        "\n",
        "The `map()` function in Python is a built-in higher-order function that allows you to apply a specified function to every item of an iterable (like a list, tuple, etc.) and return a map object (which is an iterator). The primary purpose of `map()` is to transform data in an iterable by applying a function to each of its elements.\n",
        "\n",
        "### Purpose\n",
        "- **Transformation**: The primary purpose of `map()` is to apply a transformation function to every item in an iterable, producing a new iterable with the transformed values.\n",
        "- **Code Conciseness**: It provides a concise way to perform operations on an iterable without the need for explicit loops, making the code cleaner and often more readable.\n",
        "\n",
        "### Usage\n",
        "The syntax for `map()` is as follows:\n",
        "```python\n",
        "map(function, iterable, ...)\n",
        "```\n",
        "- **function**: A function that defines the operation to be performed on each item in the iterable. This can be a built-in function, a lambda function, or any user-defined function.\n",
        "- **iterable**: One or more iterable(s) (like lists, tuples) on which the function will be applied. If multiple iterables are passed, the function must take as many arguments as there are iterables.\n",
        "\n",
        "### Returns\n",
        "- The `map()` function returns a map object (an iterator), which can be converted into a list or another iterable type (like a tuple or set) using functions like `list()`, `tuple()`, etc.\n",
        "\n",
        "### Example Usage\n",
        "\n",
        "1. **Using a Regular Function**\n",
        "   ```python\n",
        "   def square(x):\n",
        "       return x ** 2\n",
        "\n",
        "   numbers = [1, 2, 3, 4, 5]\n",
        "   squared_numbers = map(square, numbers)\n",
        "\n",
        "   # Convert to list and print the result\n",
        "   print(list(squared_numbers))  # Output: [1, 4, 9, 16, 25]\n",
        "   ```\n",
        "\n",
        "2. **Using a Lambda Function**\n",
        "   ```python\n",
        "   numbers = [1, 2, 3, 4, 5]\n",
        "   squared_numbers = map(lambda x: x ** 2, numbers)\n",
        "\n",
        "   print(list(squared_numbers))  # Output: [1, 4, 9, 16, 25]\n",
        "   ```\n",
        "\n",
        "3. **Using Multiple Iterables**\n",
        "   You can also use `map()` with multiple iterables. The function must take as many arguments as there are iterables, and it stops when the shortest iterable is exhausted.\n",
        "   ```python\n",
        "   list1 = [1, 2, 3]\n",
        "   list2 = [4, 5, 6]\n",
        "\n",
        "   sum_lists = map(lambda x, y: x + y, list1, list2)\n",
        "   print(list(sum_lists))  # Output: [5, 7, 9]\n",
        "   ```\n",
        "\n",
        "### Advantages of Using `map()`\n",
        "- **Efficiency**: `map()` can be more efficient than a list comprehension in certain scenarios, especially when dealing with large datasets, as it produces items one at a time and uses less memory.\n",
        "- **Readability**: It can make your code cleaner and more expressive by avoiding boilerplate code around loops.\n",
        "\n",
        "\n",
        "##10. What is the difference between `map()`, `reduce()`, and `filter()` functions in Python?\n",
        "\n",
        "The functions `map()`, `reduce()`, and `filter()` in Python are all higher-order functions that operate on iterables, but they serve different purposes and have distinct behaviors. Here’s a breakdown of each function, including their differences and usage:\n",
        "\n",
        "**1. `map()`**\n",
        "- **Purpose**: `map()` is used to apply a function to every item in an iterable (like a list, tuple, etc.) and returns an iterator (or map object) containing the results.\n",
        "- **Return Type**: It returns an iterator, which can be converted to a list or another collection type.\n",
        "- **Usage**: Ideal for transforming data by applying a function to each element. It can take multiple iterables as inputs.\n",
        "\n",
        "**Example**:\n",
        "```python\n",
        "numbers = [1, 2, 3, 4, 5]\n",
        "squared = map(lambda x: x ** 2, numbers)  # Apply square function to each element\n",
        "print(list(squared))  # Output: [1, 4, 9, 16, 25]\n",
        "```\n",
        "\n",
        "**2. `reduce()`**\n",
        "- **Purpose**: `reduce()` is used to apply a function of two arguments cumulatively to the items of an iterable, from left to right, so as to reduce the iterable to a single value.\n",
        "- **Return Type**: It returns a single value (not an iterator).\n",
        "- **Usage**: Ideal for performing cumulative operations that combine elements of an iterable, such as summation, multiplication, or finding the maximum value. It is found in the `functools` module.\n",
        "\n",
        "**Example**:\n",
        "```python\n",
        "from functools import reduce\n",
        "\n",
        "numbers = [1, 2, 3, 4, 5]\n",
        "sum_result = reduce(lambda x, y: x + y, numbers)  # Cumulatively sum the elements\n",
        "print(sum_result)  # Output: 15\n",
        "```\n",
        "\n",
        "**3. `filter()`\n",
        "- **Purpose**: `filter()` is used to create an iterator containing only those elements of an iterable for which a function returns `True`.\n",
        "- **Return Type**: It returns an iterator containing only filtered elements based on the predicate function.\n",
        "- **Usage**: Ideal for selectively filtering out elements based on a condition or predicate.\n",
        "\n",
        "**Example**:\n",
        "```python\n",
        "numbers = [1, 2, 3, 4, 5]\n",
        "even_numbers = filter(lambda x: x % 2 == 0, numbers)  # Filter even numbers\n",
        "print(list(even_numbers))  # Output: [2, 4]\n",
        "```\n",
        "\n",
        "##11. Using pen & Paper write the internal mechanism for sum operation using  reduce function on this given  list:[47,11,42,13];\n",
        "\n",
        "-- image uploaded in doc.\n",
        "\n"
      ],
      "metadata": {
        "id": "wseQkE1I5Uk2"
      }
    },
    {
      "cell_type": "markdown",
      "source": [
        "##PRACTICAL QUESTIONS:\n",
        "\n",
        "##1. Write a Python function that takes a list of numbers as input and returns the sum of all even numbers in the list.\n"
      ],
      "metadata": {
        "id": "78YRhXOYgsKv"
      }
    },
    {
      "cell_type": "code",
      "source": [
        "def sum_of_even_numbers(numbers):\n",
        "    return sum(num for num in numbers if num % 2 == 0)\n",
        "numbers_list = [1, 2, 3, 4, 5, 6]\n",
        "result = sum_of_even_numbers(numbers_list)\n",
        "print(\"Sum of even numbers:\", result)"
      ],
      "metadata": {
        "colab": {
          "base_uri": "https://localhost:8080/"
        },
        "id": "qGRrdOpNg5Lp",
        "outputId": "d7d809ad-f32c-40f9-b35d-ff357f3b5505"
      },
      "execution_count": 1,
      "outputs": [
        {
          "output_type": "stream",
          "name": "stdout",
          "text": [
            "Sum of even numbers: 12\n"
          ]
        }
      ]
    },
    {
      "cell_type": "markdown",
      "source": [
        " ## 2. Create a Python function that accepts a string and returns the reverse of that string.\n"
      ],
      "metadata": {
        "id": "rOmmVYeQhUvW"
      }
    },
    {
      "cell_type": "code",
      "source": [
        "def reverse_string(s):\n",
        "    return s[::-1]\n",
        "input_string = \"Hello, World!\"\n",
        "result = reverse_string(input_string)\n",
        "print(\"Reversed string:\", result)"
      ],
      "metadata": {
        "colab": {
          "base_uri": "https://localhost:8080/"
        },
        "id": "MdEsnG55hb1T",
        "outputId": "a9d20a7c-9080-4bc3-be00-78f25fb59e0a"
      },
      "execution_count": 2,
      "outputs": [
        {
          "output_type": "stream",
          "name": "stdout",
          "text": [
            "Reversed string: !dlroW ,olleH\n"
          ]
        }
      ]
    },
    {
      "cell_type": "markdown",
      "source": [],
      "metadata": {
        "id": "Tk-JbsfRhiRB"
      }
    },
    {
      "cell_type": "markdown",
      "source": [
        "##3. Implement a Python function that takes a list of integers and returns a new list containing the squares of each number."
      ],
      "metadata": {
        "id": "FD6LhZMLhjGS"
      }
    },
    {
      "cell_type": "code",
      "source": [
        "def square_numbers(numbers):\n",
        "    return [num ** 2 for num in numbers]\n",
        "input_list = [1, 2, 3, 4, 5]\n",
        "result = square_numbers(input_list)\n",
        "print(\"Squared numbers:\", result)"
      ],
      "metadata": {
        "colab": {
          "base_uri": "https://localhost:8080/"
        },
        "id": "RRt8YmI5hxTJ",
        "outputId": "8b872ba9-49cf-4c40-b6d0-2ce18db9b2e3"
      },
      "execution_count": 3,
      "outputs": [
        {
          "output_type": "stream",
          "name": "stdout",
          "text": [
            "Squared numbers: [1, 4, 9, 16, 25]\n"
          ]
        }
      ]
    },
    {
      "cell_type": "markdown",
      "source": [
        " ## 4. Write a Python function that checks if a given number is prime or not from 1 to 200.\n"
      ],
      "metadata": {
        "id": "wIClf_Gwh6A5"
      }
    },
    {
      "cell_type": "code",
      "source": [
        "def is_prime(n):\n",
        "    if n <= 1:\n",
        "        return False  # 0 and 1 are not prime numbers\n",
        "    if n <= 3:\n",
        "        return True   # 2 and 3 are prime numbers\n",
        "    if n % 2 == 0 or n % 3 == 0:\n",
        "        return False  # Exclude multiples of 2 and 3\n",
        "    i = 5\n",
        "    while i * i <= n:\n",
        "        if n % i == 0 or n % (i + 2) == 0:\n",
        "            return False\n",
        "        i += 6\n",
        "    return True\n",
        "\n",
        "number_to_check = 29\n",
        "if is_prime(number_to_check):\n",
        "    print(f\"{number_to_check} is a prime number.\")\n",
        "else:\n",
        "    print(f\"{number_to_check} is not a prime number.\")"
      ],
      "metadata": {
        "colab": {
          "base_uri": "https://localhost:8080/"
        },
        "id": "pf4yACK0iJfL",
        "outputId": "cfbcb3ed-25d0-4486-8127-510f7da9d48a"
      },
      "execution_count": 4,
      "outputs": [
        {
          "output_type": "stream",
          "name": "stdout",
          "text": [
            "29 is a prime number.\n"
          ]
        }
      ]
    },
    {
      "cell_type": "markdown",
      "source": [
        "## 5. Create an iterator class in Python that generates the Fibonacci sequence up to a specified number of terms."
      ],
      "metadata": {
        "id": "8jqePl5FiKUN"
      }
    },
    {
      "cell_type": "code",
      "source": [
        "class FibonacciIterator:\n",
        "    def __init__(self, terms):\n",
        "        self.terms = terms\n",
        "        self.count = 0\n",
        "        self.a, self.b = 0, 1\n",
        "\n",
        "    def __iter__(self):\n",
        "        return self\n",
        "\n",
        "    def __next__(self):\n",
        "        if self.count < self.terms:\n",
        "            fibonacci_number = self.a\n",
        "            self.a, self.b = self.b, self.a + self.b\n",
        "            self.count += 1\n",
        "            return fibonacci_number\n",
        "        else:\n",
        "            raise StopIteration\n",
        "\n",
        "fibonacci_count = 10\n",
        "fibonacci_sequence = FibonacciIterator(fibonacci_count)\n",
        "\n",
        "print(f\"Fibonacci sequence up to {fibonacci_count} terms:\")\n",
        "for number in fibonacci_sequence:\n",
        "    print(number)"
      ],
      "metadata": {
        "colab": {
          "base_uri": "https://localhost:8080/"
        },
        "id": "gI-kG6ZtiPSB",
        "outputId": "bbf41d18-63cd-4714-c83e-7e85e0a94942"
      },
      "execution_count": 5,
      "outputs": [
        {
          "output_type": "stream",
          "name": "stdout",
          "text": [
            "Fibonacci sequence up to 10 terms:\n",
            "0\n",
            "1\n",
            "1\n",
            "2\n",
            "3\n",
            "5\n",
            "8\n",
            "13\n",
            "21\n",
            "34\n"
          ]
        }
      ]
    },
    {
      "cell_type": "markdown",
      "source": [
        "##  6. Write a generator function in Python that yields the powers of 2 up to a given exponent."
      ],
      "metadata": {
        "id": "GCCl5rg9ie27"
      }
    },
    {
      "cell_type": "code",
      "source": [
        "def powers_of_two(max_exponent):\n",
        "    for exponent in range(max_exponent + 1):\n",
        "        yield 2 ** exponent\n",
        "max_exponent = 10\n",
        "print(f\"Powers of 2 up to 2^{max_exponent}:\")\n",
        "for power in powers_of_two(max_exponent):\n",
        "    print(power)"
      ],
      "metadata": {
        "colab": {
          "base_uri": "https://localhost:8080/"
        },
        "id": "RVpiVDrTijse",
        "outputId": "2b794da6-c5fc-4f6d-eabd-6b67f5b5cd1f"
      },
      "execution_count": 6,
      "outputs": [
        {
          "output_type": "stream",
          "name": "stdout",
          "text": [
            "Powers of 2 up to 2^10:\n",
            "1\n",
            "2\n",
            "4\n",
            "8\n",
            "16\n",
            "32\n",
            "64\n",
            "128\n",
            "256\n",
            "512\n",
            "1024\n"
          ]
        }
      ]
    },
    {
      "cell_type": "markdown",
      "source": [
        "##  7. Implement a generator function that reads a file line by line and yields each line as a string.\n"
      ],
      "metadata": {
        "id": "dekZhOvZirGc"
      }
    },
    {
      "cell_type": "code",
      "source": [
        "def read_file_line_by_line(file_path):\n",
        "\n",
        "    try:\n",
        "        with open(file_path, 'r') as f:  # Open the file in read mode ('r')\n",
        "            for line in f:\n",
        "                yield line.strip()  # Yield each line after removing leading/trailing whitespace\n",
        "    except FileNotFoundError:\n",
        "        print(f\"Error: File not found at path: {file_path}\")\n",
        "\n",
        "file_path = 'temp_file.txt'\n",
        "\n",
        "print(\"Reading lines from the file:\")\n",
        "for line in read_file_line_by_line(file_path):\n",
        "    print(line)"
      ],
      "metadata": {
        "colab": {
          "base_uri": "https://localhost:8080/"
        },
        "id": "NpqBiwmXiu_T",
        "outputId": "d48ca4f4-5d3f-4862-ccc0-3950e5a45b9a"
      },
      "execution_count": 12,
      "outputs": [
        {
          "output_type": "stream",
          "name": "stdout",
          "text": [
            "Reading lines from the file:\n",
            "Hello, world!\n"
          ]
        }
      ]
    },
    {
      "cell_type": "markdown",
      "source": [
        "## 8. Use a lambda function in Python to sort a list of tuples based on the second element of each tuple."
      ],
      "metadata": {
        "id": "pMwePvXHksZg"
      }
    },
    {
      "cell_type": "code",
      "source": [
        "# Sample list of tuples\n",
        "data = [(1, 'banana'), (2, 'apple'), (3, 'orange'), (4, 'kiwi')]\n",
        "\n",
        "# Sorting the list of tuples based on the second element\n",
        "sorted_data = sorted(data, key=lambda x: x[1])\n",
        "\n",
        "# Printing the sorted list\n",
        "print(sorted_data)"
      ],
      "metadata": {
        "colab": {
          "base_uri": "https://localhost:8080/"
        },
        "id": "zPiK-Ucuk6kz",
        "outputId": "6f105c7c-197b-42ec-d404-d38d095b8856"
      },
      "execution_count": 13,
      "outputs": [
        {
          "output_type": "stream",
          "name": "stdout",
          "text": [
            "[(2, 'apple'), (1, 'banana'), (4, 'kiwi'), (3, 'orange')]\n"
          ]
        }
      ]
    },
    {
      "cell_type": "markdown",
      "source": [
        "##  9. Write a Python program that uses `map()` to convert a list of temperatures from Celsius to Fahrenheit.\n"
      ],
      "metadata": {
        "id": "-cW8nlKlk_f2"
      }
    },
    {
      "cell_type": "code",
      "source": [
        "\n",
        "celsius_temps = [0, 20, 37, 100, -40]\n",
        "\n",
        "def celsius_to_fahrenheit(celsius):\n",
        "    return (celsius * 9/5) + 32\n",
        "\n",
        "fahrenheit_temps = list(map(celsius_to_fahrenheit, celsius_temps))\n",
        "\n",
        "print(\"Temperatures in Celsius:\", celsius_temps)\n",
        "print(\"Temperatures in Fahrenheit:\", fahrenheit_temps)"
      ],
      "metadata": {
        "colab": {
          "base_uri": "https://localhost:8080/"
        },
        "id": "kSWMy3bJlM7G",
        "outputId": "7c79bfa1-9c3c-4d30-93ba-ee218fb4d616"
      },
      "execution_count": 14,
      "outputs": [
        {
          "output_type": "stream",
          "name": "stdout",
          "text": [
            "Temperatures in Celsius: [0, 20, 37, 100, -40]\n",
            "Temperatures in Fahrenheit: [32.0, 68.0, 98.6, 212.0, -40.0]\n"
          ]
        }
      ]
    },
    {
      "cell_type": "markdown",
      "source": [
        "## 10. Create a Python program that uses `filter()` to remove all the vowels from a given string.\n"
      ],
      "metadata": {
        "id": "wg01z2R2lUte"
      }
    },
    {
      "cell_type": "code",
      "source": [
        "\n",
        "def remove_vowels(input_string):\n",
        "    vowels = 'aeiouAEIOU'\n",
        "    filtered_string = ''.join(filter(lambda char: char not in vowels, input_string))\n",
        "    return filtered_string\n",
        "\n",
        "input_string = \"Hello, World! This is an example string with vowels.\"\n",
        "\n",
        "result_string = remove_vowels(input_string)\n",
        "\n",
        "print(\"Original String:\", input_string)\n",
        "print(\"String without Vowels:\", result_string)"
      ],
      "metadata": {
        "colab": {
          "base_uri": "https://localhost:8080/"
        },
        "id": "4khnjgV5lftw",
        "outputId": "029c94a8-e7c2-47d7-cbff-fb5e3ead0f1c"
      },
      "execution_count": 15,
      "outputs": [
        {
          "output_type": "stream",
          "name": "stdout",
          "text": [
            "Original String: Hello, World! This is an example string with vowels.\n",
            "String without Vowels: Hll, Wrld! Ths s n xmpl strng wth vwls.\n"
          ]
        }
      ]
    },
    {
      "cell_type": "markdown",
      "source": [
        "## 11) Imagine an accounting routine used in a book shop. It works on a list with sublists, which look like this:Write a Python program, which returns a list with 2-tuples. Each tuple consists of the order number and the product of the price per item and the quantity. The product should be increased by 10,- € if the value of the order is smaller than 100,00 €.Write a Python program using lambda and map"
      ],
      "metadata": {
        "id": "wMo_1YYAlqtf"
      }
    },
    {
      "cell_type": "code",
      "source": [
        "orders = [\n",
        "    [1, 15.00, 5],\n",
        "    [2, 25.00, 3],\n",
        "    [3, 10.00, 2],\n",
        "    [4, 5.00, 20],\n",
        "    [5, 40.00, 1],\n",
        "]\n",
        "\n",
        "\n",
        "def calculate_order_total(order):\n",
        "    order_number, price_per_item, quantity = order\n",
        "    total = price_per_item * quantity\n",
        "\n",
        "    if total < 100:\n",
        "        total += 10\n",
        "    return (order_number, total)\n",
        "\n",
        "result = list(map(lambda order: calculate_order_total(order), orders))\n",
        "\n",
        "print(\"Order Totals:\")\n",
        "for order in result:\n",
        "    print(order)"
      ],
      "metadata": {
        "colab": {
          "base_uri": "https://localhost:8080/"
        },
        "id": "zS1H6TXZlzIu",
        "outputId": "25ab7fee-dfa2-4c41-b9a3-aeeffc91b3d4"
      },
      "execution_count": 16,
      "outputs": [
        {
          "output_type": "stream",
          "name": "stdout",
          "text": [
            "Order Totals:\n",
            "(1, 85.0)\n",
            "(2, 85.0)\n",
            "(3, 30.0)\n",
            "(4, 100.0)\n",
            "(5, 50.0)\n"
          ]
        }
      ]
    }
  ]
}